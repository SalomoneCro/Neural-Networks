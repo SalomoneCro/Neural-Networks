{
 "cells": [
  {
   "cell_type": "markdown",
   "metadata": {
    "id": "NRYEofSD0xoF"
   },
   "source": [
    "# Perceptron monocapa\n",
    "\n",
    "Un perceptrón monocapa está compuesto de una capa pasiva de entrada, y una sola capa activa que también sirve de capa de salida.\n",
    "\n",
    "El input de un perceptron determina el estado de las neuronas pasivas de la capa de entrada, $x$.\n",
    "Se considera, además, una neurona pasiva de estado fijo $x_{n_e}=-1$, para que haga las veces de umbral de activación.\n",
    "Ante una entrada $x$, la salida de la red neuronal viene dada por\n",
    "$$\n",
    "y_j(x)\n",
    "=\n",
    "g(h_{j}(x))\n",
    "$$\n",
    "donde\n",
    "$$\n",
    "h_j\n",
    "=\n",
    "%\\sum_{i=1}^{n_e}\n",
    "\\sum_i\n",
    "w_{ji}x_i\n",
    "$$\n",
    "para $j=1,...,n_s$, y $g$ es una función de activación.\n",
    "Por ejemplo, una ReLU, la cual viene dada por\n",
    "$g(h) = h$ si $h>0$ y $g(h)=0$ si $h\\leq 0$.\n",
    "\n",
    "Para entrenar la red, usamos como función costo el error cuadrático sobre el conjunto de entrenamiento $\\{e_m,s_m:m=1,...,M\\}$, al cuál lo expresamos como una función de $w$\n",
    "$$\n",
    "E(w)\n",
    "=\n",
    "\\frac{1}{2}\n",
    "%\\sum_{m=1}^M\n",
    "\\sum_{m}\n",
    "%\\sum_{j=1}^{n_s}\n",
    "\\sum_{j}\n",
    "(y_{jm}(w)-s_{mj})^2\n",
    "$$\n",
    "donde $s_{mj}$ es la salida deseada en la $j$-ésima neurona ante el $m$-ésimo ejemplo, $y_{mj}$ es la salida obtenida en la $j$-esima neurona ante el $m$-ésimo ejemplo, y $n_s$ es el número de neuronas de salida.\n",
    "Por otro lado,\n",
    "$$\n",
    "y_{jm}(w)\n",
    "=\n",
    "g(h_{jm}(w))\n",
    "$$\n",
    "donde\n",
    "$$\n",
    "h_{jm}(w)\n",
    "=\n",
    "\\sum_{i=0}^{n_e}\n",
    "w_{ji}e_{mi}\n",
    "$$\n",
    "Nos interesa calcular el gradiente de $E(w)$\n",
    "\\begin{eqnarray}\n",
    "\\frac{\\partial E}{\\partial w_{pq}}\n",
    "&=&\n",
    "%\\sum_{m=1}^M\n",
    "\\sum_m\n",
    "%\\sum_{j=1}^{n_s}\n",
    "\\sum_j\n",
    "(y_{jm}(w)-s_{mj})\n",
    "\\frac{\\partial y_{jm}}{\\partial w_{pq}}\n",
    "\\\\\n",
    "&=&\n",
    "%\\sum_{m=1}^M\n",
    "\\sum_m\n",
    "%\\sum_{j=1}^{n_s}\n",
    "\\sum_j\n",
    "(y_{jm}(w)-s_{mj})\n",
    "g'(h_{jm}(w))\n",
    "\\frac{\\partial h_{jm}}{\\partial w_{pq}}\n",
    "\\\\\n",
    "&=&\n",
    "%\\sum_{m=1}^M\n",
    "\\sum_m\n",
    "%\\sum_{j=1}^{n_s}\n",
    "\\sum_j\n",
    "(y_{jm}(w)-s_{mj})\n",
    "g'(h_{jm}(w))\n",
    "\\delta_{jp}\n",
    "e_{mq}\n",
    "\\\\\n",
    "&=&\n",
    "%\\sum_{m=1}^M\n",
    "\\sum_m\n",
    "(y_{pm}(w)-s_{mp})\n",
    "g'(h_{pm}(w))\n",
    "e_{mq}\n",
    "\\end{eqnarray}\n",
    "puesto que\n",
    "$$\n",
    "\\frac{\\partial h_{jm}}{\\partial w_{pq}}\n",
    "=\n",
    "%\\sum_{i=1}^{n_e}\n",
    "\\sum_i\n",
    "\\frac{w_{ji}}{w_{pq}}\n",
    "e_{mi}\n",
    "=\n",
    "%\\sum_{i=1}^{n_e}\n",
    "\\sum_i\n",
    "\\delta_{jp}\n",
    "\\delta_{iq}\n",
    "e_{mi}\n",
    "=\n",
    "\\delta_{jp}\n",
    "e_{mq}\n",
    "$$\n",
    "\n",
    "Recordar que, en el caso de una ReLU, $g'(h)=\\Theta(h)$, donde $\\Theta(h)=1$ si $h>0$ y $\\Theta(h)=0$ si $h\\leq 0$.\n",
    "\n",
    "Para actualizar los pesos sinápticos en la $(\\tau+1)$-ésima época de entrenamiento, utilice la regla\n",
    "$$\n",
    "w^{\\tau}_{ji} \\to w^{\\tau+1}_{ji} = w^{\\tau}_{ji} - \\eta \\frac{\\partial E}{\\partial w_{ji}}\n",
    "$$\n",
    "para todo $ji$.\n",
    "\n",
    "## **Ejercicio 1**\n",
    "\n",
    "Genere un conjunto de entrenamiento compuesto por $M$ puntos en $\\mathbb{R}^{n_e}$, distribuidos en $n_s$ nubes, con $m_c$ puntos en la nube $c$.\n",
    "Notar que $c=1,...,n_e$ nubes y, en total, se generarán $M=\\sum_c m_c$ puntos.\n",
    "\n",
    "Para generar las nubes:\n",
    "\n",
    "* genere aleatoriamente $n_s$ puntos en $\\mathbb{R}^{n_e}$ a los que llamaremos centros, sorteando los valores de las coordenadas a partir de una distribución normal, y\n",
    "\n",
    "* para cada centro $c$, genere $m_c$ puntos aleatorios alrededor del mismo, sumando sus coordenadas a números aleatorios generados con una Gaussiana de desviación estandard $\\sigma=0.1$.\n",
    "\n",
    "Las $n_e$ coordenadas del $m$-ésimo punto constituirán el vector de entrada del $m$-ésimo ejemplo.\n",
    "La nube a la que pertenece el $m$-ésimo punto determinará el vector de salida del $m$-ésimo ejemplo.\n",
    "Más precisamente, si el $m$-ésimo punto pertenence a la $c$-ésima nube, el vector de salida será el vector canónico $(0,0,...,1,...,0)$ de $n_s$ componentes con un único 1 en la $c$-esima posición.\n",
    "\n",
    "Concretamente\n",
    "\n",
    "1. Genere un conjunto de 8 puntos en $\\mathbb{R}^{n_e}$ con $n_e=2$, divididos en 3 nubes con $m_1=3$ en la primera nube, $m_2=2$ puntos en la segunda nube y $m_3=3$ puntos en la tercera nube. Utilice $\\sigma=0.1$ para indicar la dispersión de los puntos alrededor de cada nube.\n",
    "\n",
    "2. Grafique las nubes de puntos, utilizando un color distinto para cada una de ellas.\n",
    "\n",
    "**IMPORTANTE:** No olvide extender la entrada con una unidad extra de estado fijo $x_{n_e+1}=-1$ para que las sinapsis $w_{j,n_e+1}$ hagan las veces de umbrales $u_j$.\n",
    "\n",
    "## **Ejercicio 2**\n",
    "\n",
    "Implemente y entrene un **perceptrón monocapa** sobre el conjunto de entrenamiento generado en el Ejercicio 1.\n",
    "Utilice funciones de activación **sigmoideas** y, además, recuerde agregar las neuronas auxiliares que permiten imitar los umbrales de activación.\n",
    "\n",
    "Para entrenarlo, utilice una taza $\\eta=0.02$ y alrededor de 500.000 de épocas o más, según considere necesario.\n",
    "\n",
    "Luego, grafique nuevamente los puntos, pintando el relleno de los mismos con los colores de las nubes asociadas, y el borde de los mismos con el color correspondiente a la predicción.\n",
    "Grafique, además, las predicciones antes de entrar con el fin de corroborar que la red sin entregar clasifica erroneamente los ejemplos.\n",
    "\n",
    "## **Ejercicio 3**\n",
    "\n",
    "La compuerta XOR.\n",
    "\n",
    "El siguiente conjunto de 4 ejemplos:\n",
    "\n",
    "* $e_1 = (0,0,-1)$, $s_1=(1,0)$\n",
    "* $e_2 = (0,1,-1)$, $s_2=(0,1)$\n",
    "* $e_3 = (1,0,-1)$, $s_3=(0,1)$\n",
    "* $e_4 = (1,1,-1)$, $s_4=(1,0)$\n",
    "\n",
    "corresponde a la compuerta XOR.\n",
    "Utilice el **perceptrón monocapa** implementando para verificar que el mismo no es capáz de aprender este conjunto de ejemplos.\n",
    "\n",
    "## **Ejercicio 4**\n",
    "\n",
    "Repita los experimentos utilizando funciones de activación de tipo **ReLU**."
   ]
  },
  {
   "cell_type": "code",
   "execution_count": 38,
   "metadata": {
    "id": "UjbcNI0a4ac3"
   },
   "outputs": [],
   "source": [
    "# 1.1)\n",
    "\n",
    "import random\n",
    "import numpy as np\n",
    "import matplotlib.pyplot as plt\n",
    "import math\n",
    "\n",
    "def puntos_aleatorios(n=3):\n",
    "    return [np.array([random.uniform(-10, 10), random.uniform(-10, 10)]) for _ in range(n)]\n",
    "\n",
    "num_puntos = [3,2,3]\n",
    "\n",
    "puntos = puntos_aleatorios()\n",
    "\n",
    "grupos = [[], [], []]\n",
    "\n",
    "for i in range(3):\n",
    "    for _ in range(num_puntos[i]):\n",
    "        grupos[i].append(puntos[i] + np.array(np.random.normal(0, 0.1, 2)))\n"
   ]
  },
  {
   "cell_type": "code",
   "execution_count": 39,
   "metadata": {},
   "outputs": [
    {
     "data": {
      "image/png": "[encoded data removed]",
      "text/plain": [
       "<Figure size 1200x600 with 1 Axes>"
      ]
     },
     "metadata": {},
     "output_type": "display_data"
    }
   ],
   "source": [
    "fig, ax = plt.subplots(1,1, figsize=(12,6))\n",
    "\n",
    "plt.scatter(*zip(*grupos[0]), color='purple', marker='o')\n",
    "plt.scatter(*zip(*grupos[1]), color='green', marker='o')\n",
    "plt.scatter(*zip(*grupos[2]), color='orange', marker='o')\n",
    "\n",
    "plt.grid()\n",
    "\n",
    "plt.show()"
   ]
  },
  {
   "cell_type": "markdown",
   "metadata": {},
   "source": [
    "Preparing the data"
   ]
  },
  {
   "cell_type": "code",
   "execution_count": 40,
   "metadata": {},
   "outputs": [
    {
     "data": {
      "text/plain": [
       "array([[ 3.53227299,  3.37113562,  3.51906244, -9.04140738, -9.05611589,\n",
       "         4.36484947,  4.36084392,  4.30635465],\n",
       "       [-0.12341061,  0.01451959, -0.03523639, -6.58234746, -6.55212467,\n",
       "        -2.29290443, -2.36970701, -2.35182485]])"
      ]
     },
     "execution_count": 40,
     "metadata": {},
     "output_type": "execute_result"
    }
   ],
   "source": [
    "data = np.array([coord for group in grupos for coord in group]).T\n",
    "\n",
    "data"
   ]
  },
  {
   "cell_type": "code",
   "execution_count": 41,
   "metadata": {},
   "outputs": [],
   "source": [
    "labels = np.array([[1,1,1,0,0,0,0,0],\n",
    "                   [0,0,0,1,1,0,0,0],\n",
    "                   [0,0,0,0,0,1,1,1]])"
   ]
  },
  {
   "cell_type": "markdown",
   "metadata": {},
   "source": [
    "Declaring random weights"
   ]
  },
  {
   "cell_type": "code",
   "execution_count": 42,
   "metadata": {},
   "outputs": [],
   "source": [
    "W = np.random.rand(3,3) #There will be two entries, but I am declaring an extra column for the \"-1\"\n",
    "                        # neuron for the umbral"
   ]
  },
  {
   "cell_type": "markdown",
   "metadata": {},
   "source": [
    "Functions"
   ]
  },
  {
   "cell_type": "code",
   "execution_count": 43,
   "metadata": {},
   "outputs": [],
   "source": [
    "def single_layer_perceptron(entry_layer, n_entry, n_output, Ws, act_fct = lambda x: x):\n",
    "\n",
    "    Ws_copy = Ws.copy()\n",
    "    entry_layer_copy = np.array(entry_layer).copy()\n",
    "\n",
    "    entry_layer_copy = np.append(entry_layer_copy, -1)\n",
    "\n",
    "    output = np.zeros(n_output)\n",
    "    for j in range(n_output):\n",
    "        for i in range(n_entry + 1):\n",
    "            output[j] += Ws_copy[j,i] * entry_layer_copy[i]\n",
    "        output[j] = act_fct(output[j])\n",
    "\n",
    "    return output"
   ]
  },
  {
   "cell_type": "code",
   "execution_count": 44,
   "metadata": {},
   "outputs": [],
   "source": [
    "# w = np.array([[1,2],\n",
    "#               [2,10],\n",
    "#               [1,6],\n",
    "#               [2,2]])\n",
    "# entry = [10]\n",
    "# print(single_layer_perceptron(entry_layer=entry,\n",
    "#                               n_entry=1,\n",
    "#                               n_output=4,\n",
    "#                               Ws=w))"
   ]
  },
  {
   "cell_type": "code",
   "execution_count": 45,
   "metadata": {},
   "outputs": [],
   "source": [
    "sigmoid = lambda x: 1/(1+math.exp(-x))\n",
    "\n",
    "def gradient_descent(Ws, \n",
    "                     n_entry, \n",
    "                     n_output, \n",
    "                     data, \n",
    "                     labels, \n",
    "                     predictions, \n",
    "                     learning_rate, \n",
    "                     d_act_fct=lambda x: sigmoid(x)*(1-sigmoid(x))):\n",
    "\n",
    "    W = np.array(Ws).copy()\n",
    "    data_copy = np.vstack((data, -1 * np.ones((1, data.shape[1])))).copy() #Adding the umbral\n",
    "    err = 0\n",
    "    for p in range(n_output):\n",
    "        for q in range(n_entry+1): # +1 for the umbral\n",
    "            p_d = 0 #Partial derivative\n",
    "            for m in range(data_copy.shape[1]):\n",
    "                h_pm = 0\n",
    "                for i in range(n_entry + 1): # +1 for the umbral\n",
    "                    h_pm += W[p,i] * data_copy[i, m]\n",
    "                p_d += (predictions[p, m] - labels[p, m]) * d_act_fct(h_pm) * data_copy[q, m]\n",
    "            W[p, q] -= learning_rate * p_d\n",
    "        for m in range(data_copy.shape[1]):\n",
    "            err += (predictions[p, m] - labels[p, m])**2\n",
    "    \n",
    "    return W, err/2"
   ]
  },
  {
   "cell_type": "markdown",
   "metadata": {},
   "source": [
    "Classifing points using the random weigths"
   ]
  },
  {
   "cell_type": "code",
   "execution_count": null,
   "metadata": {},
   "outputs": [],
   "source": [
    "predictions = np.empty((3, 0))\n",
    "\n",
    "for i in range(data.shape[1]):\n",
    "\n",
    "    predictions = np.hstack((predictions, single_layer_perceptron(entry_layer=data[:,i],\n",
    "                                                                  n_entry=2,\n",
    "                                                                  n_output=3,\n",
    "                                                                  Ws=W,\n",
    "                                                                  act_fct=lambda x: 1/(1+math.exp(-x))).reshape(-1, 1)))"
   ]
  },
  {
   "cell_type": "code",
   "execution_count": 47,
   "metadata": {},
   "outputs": [],
   "source": [
    "errors = []\n",
    "for i in range(500000):\n",
    "    W, err = gradient_descent(Ws=W,\n",
    "                         n_entry=2,\n",
    "                         n_output=3,\n",
    "                         data=data,\n",
    "                         labels=labels,\n",
    "                         predictions=predictions,\n",
    "                         learning_rate=0.02)\n",
    "    \n",
    "    errors.append(err)\n",
    "    \n",
    "    predictions = np.empty((3, 0))\n",
    "\n",
    "    for i in range(data.shape[1]):\n",
    "\n",
    "        predictions = np.hstack((predictions, single_layer_perceptron(entry_layer=data[:,i],\n",
    "                                                                      n_entry=2,\n",
    "                                                                      n_output=3,\n",
    "                                                                      Ws=W,\n",
    "                                                                      act_fct=lambda x: 1/(1+math.exp(-x))).reshape(-1, 1)))\n"
   ]
  },
  {
   "cell_type": "code",
   "execution_count": 48,
   "metadata": {},
   "outputs": [
    {
     "name": "stdout",
     "output_type": "stream",
     "text": [
      "[ 3.53227299 -0.12341061]\n",
      "[3.37113562 0.01451959]\n",
      "[ 3.51906244 -0.03523639]\n",
      "[-9.04140738 -6.58234746]\n",
      "[-9.05611589 -6.55212467]\n",
      "[ 4.36484947 -2.29290443]\n",
      "[ 4.36084392 -2.36970701]\n",
      "[ 4.30635465 -2.35182485]\n"
     ]
    }
   ],
   "source": [
    "for i in range(data.shape[1]):\n",
    "    print(data[:,i])"
   ]
  },
  {
   "cell_type": "code",
   "execution_count": 50,
   "metadata": {},
   "outputs": [
    {
     "data": {
      "text/plain": [
       "array([0.99739751, 0.00128893, 0.00538324])"
      ]
     },
     "execution_count": 50,
     "metadata": {},
     "output_type": "execute_result"
    }
   ],
   "source": [
    "single_layer_perceptron(entry_layer=[3.4, 0],\n",
    "                        n_entry=2,\n",
    "                        n_output=3,\n",
    "                        Ws=W,\n",
    "                        act_fct=lambda x: 1/(1+math.exp(-x)))"
   ]
  },
  {
   "cell_type": "code",
   "execution_count": 60,
   "metadata": {},
   "outputs": [
    {
     "name": "stdout",
     "output_type": "stream",
     "text": [
      "0.00019648002516892062\n"
     ]
    },
    {
     "data": {
      "image/png": "[encoded data removed]",
      "text/plain": [
       "<Figure size 1400x600 with 1 Axes>"
      ]
     },
     "metadata": {},
     "output_type": "display_data"
    }
   ],
   "source": [
    "fig, ax = plt.subplots(1, 1, figsize=(14, 6))\n",
    "\n",
    "\n",
    "ax.plot(errors)\n",
    "# ax.set_xscale('log')  # Escala logarítmica para el eje x\n",
    "ax.set_yscale('log')  # Escala logarítmica para el eje y\n",
    "ax.set_xlabel(\"Epochs\")  # Etiqueta del eje x\n",
    "ax.set_ylabel(\"MSE\")     # Etiqueta del eje y\n",
    "ax.set_title(\"Error cuadrático medio del Perceptrón durante su entrenamiento\")  # Título\n",
    "ax.grid(True)\n",
    "\n",
    "print(errors[-1])\n",
    "plt.show()"
   ]
  },
  {
   "cell_type": "markdown",
   "metadata": {},
   "source": [
    "ReLU"
   ]
  },
  {
   "cell_type": "code",
   "execution_count": 63,
   "metadata": {},
   "outputs": [],
   "source": [
    "W2 = np.random.rand(3,3) #There will be two entries, but I am declaring an extra column for the \"-1\"\n",
    "                        # neuron for the umbral\n",
    "\n",
    "predictions = np.empty((3, 0))\n",
    "\n",
    "for i in range(data.shape[1]):\n",
    "\n",
    "    predictions = np.hstack((predictions, single_layer_perceptron(entry_layer=data[:,i],\n",
    "                                                                  n_entry=2,\n",
    "                                                                  n_output=3,\n",
    "                                                                  Ws=W2,\n",
    "                                                                  act_fct=lambda x: 0 if x <= 0 else x).reshape(-1, 1)))\n",
    "    \n",
    "\n",
    "errors2 = []\n",
    "for i in range(500000):\n",
    "    W2, err2 = gradient_descent(Ws=W2,\n",
    "                         n_entry=2,\n",
    "                         n_output=3,\n",
    "                         data=data,\n",
    "                         labels=labels,\n",
    "                         predictions=predictions,\n",
    "                         learning_rate=0.02,\n",
    "                         d_act_fct= lambda x: 0 if x <= 0 else 1)\n",
    "    \n",
    "    errors2.append(err2)\n",
    "    \n",
    "    predictions = np.empty((3, 0))\n",
    "\n",
    "    for i in range(data.shape[1]):\n",
    "\n",
    "        predictions = np.hstack((predictions, single_layer_perceptron(entry_layer=data[:,i],\n",
    "                                                                      n_entry=2,\n",
    "                                                                      n_output=3,\n",
    "                                                                      Ws=W2,\n",
    "                                                                      act_fct=lambda x: 0 if x <= 0 else x).reshape(-1, 1)))\n"
   ]
  },
  {
   "cell_type": "code",
   "execution_count": 64,
   "metadata": {},
   "outputs": [
    {
     "name": "stdout",
     "output_type": "stream",
     "text": [
      "2.5005384407362983\n"
     ]
    },
    {
     "data": {
      "image/png": "[encoded data removed]",
      "text/plain": [
       "<Figure size 1400x600 with 1 Axes>"
      ]
     },
     "metadata": {},
     "output_type": "display_data"
    }
   ],
   "source": [
    "fig, ax = plt.subplots(1, 1, figsize=(14, 6))\n",
    "\n",
    "ax.plot(errors2)\n",
    "# ax.set_xscale('log')  # Escala logarítmica para el eje x\n",
    "ax.set_yscale('log')  # Escala logarítmica para el eje y\n",
    "ax.set_xlabel(\"Epochs\")  # Etiqueta del eje x\n",
    "ax.set_ylabel(\"MSE\")     # Etiqueta del eje y\n",
    "ax.set_title(\"Error cuadrático medio del Perceptrón durante su entrenamiento\")  # Título\n",
    "ax.grid(True)\n",
    "\n",
    "print(errors2[-1])\n",
    "plt.show()"
   ]
  }
 ],
 "metadata": {
  "colab": {
   "provenance": []
  },
  "kernelspec": {
   "display_name": "env",
   "language": "python",
   "name": "python3"
  },
  "language_info": {
   "codemirror_mode": {
    "name": "ipython",
    "version": 3
   },
   "file_extension": ".py",
   "mimetype": "text/x-python",
   "name": "python",
   "nbconvert_exporter": "python",
   "pygments_lexer": "ipython3",
   "version": "3.11.9"
  }
 },
 "nbformat": 4,
 "nbformat_minor": 0
}
