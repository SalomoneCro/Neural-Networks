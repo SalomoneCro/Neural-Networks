{
  "nbformat": 4,
  "nbformat_minor": 0,
  "metadata": {
    "colab": {
      "provenance": [],
      "gpuType": "T4"
    },
    "kernelspec": {
      "name": "python3",
      "display_name": "Python 3"
    },
    "language_info": {
      "name": "python"
    },
    "accelerator": "GPU"
  },
  "cells": [
    {
      "cell_type": "markdown",
      "source": [
        "# PyTorch: Autoencoder convolucional Fashion-MNIST\n",
        "\n",
        "## Refs.\n",
        "\n",
        "* https://pytorch.org/tutorials/beginner/basics/optimization_tutorial.html\n",
        "\n",
        "* https://github.com/zalandoresearch/fashion-mnist\n",
        "\n",
        "* https://github.com/pranay414/Fashion-MNIST-Pytorch/blob/master/fashion_mnist.ipynb\n",
        "\n",
        "## **Ejercicio 1)** Importando librerías\n",
        "\n",
        "**0)** De ser necesario, **instale PyTorch** escribiendo\n",
        "\n",
        "    !pip3 install torch torchvision torchaudio torchviz\n",
        "\n",
        "**1)** Importe las librerías estandard de Python: `os`, `datetime`, `collections` y `pickle`.\n",
        "\n",
        "**2)** Importe las siguientes librerías third party de Python: `matplotlib.pyplot`, `numpy`, `scipy`, `sklearn`, `pandas`, `dill` y `json`.\n",
        "\n",
        "**3)** Importe las librerias necesarias de **PyTorch**: `torch` y `torchvision`.\n",
        "\n",
        "**4)** Importe la librería: `google.colab`."
      ],
      "metadata": {
        "id": "NRYEofSD0xoF"
      }
    },
    {
      "cell_type": "code",
      "source": [
        "# 1.0)\n",
        "!pip3 install torch torchvision torchaudio torchviz"
      ],
      "metadata": {
        "id": "Jg3VSqHCGSub",
        "outputId": "5f844d44-ac7a-4800-b2ac-f6f796dc7566",
        "colab": {
          "base_uri": "https://localhost:8080/"
        }
      },
      "execution_count": null,
      "outputs": [
        {
          "output_type": "stream",
          "name": "stdout",
          "text": [
            "Requirement already satisfied: torch in /usr/local/lib/python3.10/dist-packages (2.5.1+cu121)\n",
            "Requirement already satisfied: torchvision in /usr/local/lib/python3.10/dist-packages (0.20.1+cu121)\n",
            "Requirement already satisfied: torchaudio in /usr/local/lib/python3.10/dist-packages (2.5.1+cu121)\n",
            "Collecting torchviz\n",
            "  Downloading torchviz-0.0.2.tar.gz (4.9 kB)\n",
            "  Preparing metadata (setup.py) ... \u001b[?25l\u001b[?25hdone\n",
            "Requirement already satisfied: filelock in /usr/local/lib/python3.10/dist-packages (from torch) (3.16.1)\n",
            "Requirement already satisfied: typing-extensions>=4.8.0 in /usr/local/lib/python3.10/dist-packages (from torch) (4.12.2)\n",
            "Requirement already satisfied: networkx in /usr/local/lib/python3.10/dist-packages (from torch) (3.4.2)\n",
            "Requirement already satisfied: jinja2 in /usr/local/lib/python3.10/dist-packages (from torch) (3.1.4)\n",
            "Requirement already satisfied: fsspec in /usr/local/lib/python3.10/dist-packages (from torch) (2024.10.0)\n",
            "Requirement already satisfied: sympy==1.13.1 in /usr/local/lib/python3.10/dist-packages (from torch) (1.13.1)\n",
            "Requirement already satisfied: mpmath<1.4,>=1.1.0 in /usr/local/lib/python3.10/dist-packages (from sympy==1.13.1->torch) (1.3.0)\n",
            "Requirement already satisfied: numpy in /usr/local/lib/python3.10/dist-packages (from torchvision) (1.26.4)\n",
            "Requirement already satisfied: pillow!=8.3.*,>=5.3.0 in /usr/local/lib/python3.10/dist-packages (from torchvision) (11.0.0)\n",
            "Requirement already satisfied: graphviz in /usr/local/lib/python3.10/dist-packages (from torchviz) (0.20.3)\n",
            "Requirement already satisfied: MarkupSafe>=2.0 in /usr/local/lib/python3.10/dist-packages (from jinja2->torch) (3.0.2)\n",
            "Building wheels for collected packages: torchviz\n",
            "  Building wheel for torchviz (setup.py) ... \u001b[?25l\u001b[?25hdone\n",
            "  Created wheel for torchviz: filename=torchviz-0.0.2-py3-none-any.whl size=4132 sha256=1890756181d01893c2bdb6a6ae4adb51080c510afda8f53c20fa22705ecd5136\n",
            "  Stored in directory: /root/.cache/pip/wheels/4c/97/88/a02973217949e0db0c9f4346d154085f4725f99c4f15a87094\n",
            "Successfully built torchviz\n",
            "Installing collected packages: torchviz\n",
            "Successfully installed torchviz-0.0.2\n"
          ]
        }
      ]
    },
    {
      "cell_type": "code",
      "source": [
        "# 1.1)\n",
        "import os\n",
        "import pickle\n",
        "import datetime\n",
        "from collections import defaultdict"
      ],
      "metadata": {
        "id": "I8N3D_nU1_oT"
      },
      "execution_count": null,
      "outputs": []
    },
    {
      "cell_type": "code",
      "source": [
        "# 1.2)\n",
        "import matplotlib.pyplot as plt\n",
        "from matplotlib import cm\n",
        "import numpy as np\n",
        "import scipy as sp\n",
        "import scipy.linalg as linalg\n",
        "import sklearn as skl\n",
        "import pandas as pd\n",
        "#import dill\n",
        "import json"
      ],
      "metadata": {
        "id": "QsfFvPYhkCGl"
      },
      "execution_count": null,
      "outputs": []
    },
    {
      "cell_type": "code",
      "source": [
        "# 1.3)\n",
        "import torch\n",
        "import torch.optim as optim\n",
        "from torch import nn\n",
        "from torch.nn import functional as F\n",
        "from torch.utils.data import Dataset, DataLoader, Subset, random_split\n",
        "from torchvision import datasets\n",
        "from torchvision import transforms\n",
        "from torchvision.io import read_image\n",
        "from torchvision.transforms import ToTensor, Lambda, Compose\n",
        "#from torchviz import make_dot"
      ],
      "metadata": {
        "id": "Uot5sVNnkCNa"
      },
      "execution_count": null,
      "outputs": []
    },
    {
      "cell_type": "code",
      "source": [
        "# 1.4)\n",
        "import google.colab\n",
        "from google.colab import files"
      ],
      "metadata": {
        "id": "rVCiYt-1kCUi"
      },
      "execution_count": null,
      "outputs": []
    },
    {
      "cell_type": "code",
      "source": [
        "device = 'cuda' if torch.cuda.is_available() else 'cpu'\n",
        "device"
      ],
      "metadata": {
        "id": "oUFvWw_kr7Bt",
        "outputId": "7884c34f-da96-49ba-f753-6e4c8dc2e4c8",
        "colab": {
          "base_uri": "https://localhost:8080/",
          "height": 35
        }
      },
      "execution_count": null,
      "outputs": [
        {
          "output_type": "execute_result",
          "data": {
            "text/plain": [
              "'cuda'"
            ],
            "application/vnd.google.colaboratory.intrinsic+json": {
              "type": "string"
            }
          },
          "metadata": {},
          "execution_count": 7
        }
      ]
    },
    {
      "cell_type": "markdown",
      "source": [
        "## **Ejercicio 2)**\n",
        "\n",
        "Bajando y Jugando con el dataset **Fashion-MNIST**.\n",
        "\n",
        "**1)** Baje y transforme los conjuntos de entrenamiento y testeo de FashionMNIST.\n",
        "\n",
        "**2)** Grafique un mosaico de 3x3 imagenes de FashionMNIST, cada una titulada con su respectiva clasificación"
      ],
      "metadata": {
        "id": "NcaGEHAd10sb"
      }
    },
    {
      "cell_type": "code",
      "source": [
        "# 2.1)\n",
        "# Define a transform to normalize the data\n",
        "transform = transforms.Compose([transforms.ToTensor(),\n",
        "                                transforms.Normalize((0.5), (0.5))])\n",
        "\n",
        "# Download and load the training data\n",
        "train_set_orig = datasets.FashionMNIST('MNIST_data/',\n",
        "                                       download = True,\n",
        "                                       train = True,\n",
        "                                       transform = transform)\n",
        "test_set_orig = datasets.FashionMNIST('MNIST_data/',\n",
        "                                       download = True,\n",
        "                                       train = False,\n",
        "                                       transform = transform)"
      ],
      "metadata": {
        "id": "NUoQ9bnwaZ7O",
        "colab": {
          "base_uri": "https://localhost:8080/"
        },
        "outputId": "6a8b112b-2cc1-41e5-b677-d4a9623e7600"
      },
      "execution_count": null,
      "outputs": [
        {
          "output_type": "stream",
          "name": "stdout",
          "text": [
            "Downloading http://fashion-mnist.s3-website.eu-central-1.amazonaws.com/train-images-idx3-ubyte.gz\n",
            "Downloading http://fashion-mnist.s3-website.eu-central-1.amazonaws.com/train-images-idx3-ubyte.gz to MNIST_data/FashionMNIST/raw/train-images-idx3-ubyte.gz\n"
          ]
        },
        {
          "output_type": "stream",
          "name": "stderr",
          "text": [
            "100%|██████████| 26.4M/26.4M [00:00<00:00, 112MB/s]\n"
          ]
        },
        {
          "output_type": "stream",
          "name": "stdout",
          "text": [
            "Extracting MNIST_data/FashionMNIST/raw/train-images-idx3-ubyte.gz to MNIST_data/FashionMNIST/raw\n",
            "\n",
            "Downloading http://fashion-mnist.s3-website.eu-central-1.amazonaws.com/train-labels-idx1-ubyte.gz\n",
            "Downloading http://fashion-mnist.s3-website.eu-central-1.amazonaws.com/train-labels-idx1-ubyte.gz to MNIST_data/FashionMNIST/raw/train-labels-idx1-ubyte.gz\n"
          ]
        },
        {
          "output_type": "stream",
          "name": "stderr",
          "text": [
            "100%|██████████| 29.5k/29.5k [00:00<00:00, 6.97MB/s]\n"
          ]
        },
        {
          "output_type": "stream",
          "name": "stdout",
          "text": [
            "Extracting MNIST_data/FashionMNIST/raw/train-labels-idx1-ubyte.gz to MNIST_data/FashionMNIST/raw\n",
            "\n",
            "Downloading http://fashion-mnist.s3-website.eu-central-1.amazonaws.com/t10k-images-idx3-ubyte.gz\n",
            "Downloading http://fashion-mnist.s3-website.eu-central-1.amazonaws.com/t10k-images-idx3-ubyte.gz to MNIST_data/FashionMNIST/raw/t10k-images-idx3-ubyte.gz\n"
          ]
        },
        {
          "output_type": "stream",
          "name": "stderr",
          "text": [
            "100%|██████████| 4.42M/4.42M [00:00<00:00, 58.3MB/s]\n"
          ]
        },
        {
          "output_type": "stream",
          "name": "stdout",
          "text": [
            "Extracting MNIST_data/FashionMNIST/raw/t10k-images-idx3-ubyte.gz to MNIST_data/FashionMNIST/raw\n",
            "\n",
            "Downloading http://fashion-mnist.s3-website.eu-central-1.amazonaws.com/t10k-labels-idx1-ubyte.gz\n",
            "Downloading http://fashion-mnist.s3-website.eu-central-1.amazonaws.com/t10k-labels-idx1-ubyte.gz to MNIST_data/FashionMNIST/raw/t10k-labels-idx1-ubyte.gz\n"
          ]
        },
        {
          "output_type": "stream",
          "name": "stderr",
          "text": [
            "100%|██████████| 5.15k/5.15k [00:00<00:00, 15.5MB/s]\n"
          ]
        },
        {
          "output_type": "stream",
          "name": "stdout",
          "text": [
            "Extracting MNIST_data/FashionMNIST/raw/t10k-labels-idx1-ubyte.gz to MNIST_data/FashionMNIST/raw\n",
            "\n"
          ]
        }
      ]
    },
    {
      "cell_type": "code",
      "source": [
        "# 2.2)\n",
        "figure = plt.figure()\n",
        "cols,rows = 3,3\n",
        "for i in range(1,cols*rows+1):\n",
        "    j = torch.randint(len(train_set_orig),size=(1,)).item() # Los números aleatorios tambien se pueden generar desde pytorch. Util para trabajar en la GPU.\n",
        "    image,label = train_set_orig[j]\n",
        "    figure.add_subplot(rows,cols,i)\n",
        "    #plt.title(labels_names[label])\n",
        "    plt.axis(\"off\")\n",
        "    plt.imshow(image.squeeze(),cmap=\"Greys_r\")\n",
        "plt.show()"
      ],
      "metadata": {
        "id": "-wJdl9mKx5EC",
        "outputId": "8410c7e8-1c5b-4b0e-ff20-024b892cd893",
        "colab": {
          "base_uri": "https://localhost:8080/",
          "height": 406
        }
      },
      "execution_count": null,
      "outputs": [
        {
          "output_type": "display_data",
          "data": {
            "text/plain": [
              "<Figure size 640x480 with 9 Axes>"
            ],
            "image/png": "[encoded data removed]"
          },
          "metadata": {}
        }
      ]
    },
    {
      "cell_type": "markdown",
      "source": [
        "## Ejercicio 3) Creando un `DataSet` personalizado.\n",
        "\n",
        "**1)** Con el fin de implementar un autoencoder, cree una clase derivada de la clase `DataSet` (llámela, por ejemplo `CustomDataset`) que, en vez de retornal el label asociado a cada imagen de `FashionMNIST`, retorne la imagen misma.\n",
        "\n",
        "**2)** Utilice dicha clase para transformar los conjuntos de entrenamiento y testeo de `FashionMNIST` pensados para clasificación, a correspondientes conjuntos pensados para entrenar un autoencoder.\n",
        "Para ello, defina una clase `CustomDataset` que deriva de la clase `Dataset`, cuyo método `__getitem__(self,i)` retorne el pair `input,output` donde tanto `input` cómo `output` son iguales a la $i$-ésima imagen del dataset."
      ],
      "metadata": {
        "id": "1OWYnfxWz8RS"
      }
    },
    {
      "cell_type": "code",
      "source": [
        "class CustomDataset(Dataset):\n",
        "    \"\"\"\n",
        "    Clase personalizada derivada de torch.utils.data.Dataset para transformar el\n",
        "    dataset FashionMNIST a un formato pensado para entrenar un autoencoder.\n",
        "\n",
        "    En lugar de retornar (imagen, etiqueta), retorna (imagen, imagen).\n",
        "    \"\"\"\n",
        "    def __init__(self, dataset: Dataset):\n",
        "        \"\"\"\n",
        "        Constructor de la clase CustomDataset.\n",
        "\n",
        "        Parámetros:\n",
        "        - dataset (Dataset): Dataset base (por ejemplo, FashionMNIST) que se va a transformar.\n",
        "        \"\"\"\n",
        "        self.dataset = dataset\n",
        "\n",
        "    def __len__(self) -> int:\n",
        "        \"\"\"\n",
        "        Retorna la cantidad de muestras en el dataset.\n",
        "\n",
        "        Retorno:\n",
        "        - int: Longitud del dataset.\n",
        "        \"\"\"\n",
        "        return len(self.dataset)\n",
        "\n",
        "    def __getitem__(self, index: int) -> tuple[torch.Tensor, torch.Tensor]:\n",
        "        \"\"\"\n",
        "        Retorna la i-ésima muestra del dataset como un par (input, output),\n",
        "        donde ambos son iguales a la i-ésima imagen.\n",
        "\n",
        "        Parámetros:\n",
        "        - index (int): Índice de la muestra.\n",
        "\n",
        "        Retorno:\n",
        "        - tuple[torch.Tensor, torch.Tensor]: Par (imagen, imagen).\n",
        "        \"\"\"\n",
        "        image, _ = self.dataset[index]  # Ignorar el label original\n",
        "        return image, image\n",
        "\n",
        "# Transformar a datasets para autoencoder usando CustomDataset\n",
        "train_set_autoencoder = CustomDataset(train_set_orig)\n",
        "test_set_autoencoder = CustomDataset(test_set_orig)"
      ],
      "metadata": {
        "id": "sPjO1_Av1f87"
      },
      "execution_count": null,
      "outputs": []
    },
    {
      "cell_type": "code",
      "source": [
        "# Ejemplo de uso\n",
        "image, output = train_set_autoencoder[0]\n",
        "print(\"Shape de la imagen (input):\", image.shape)\n",
        "print(\"Shape de la salida (output):\", output.shape)\n",
        "print(\"Son iguales input y output?\", torch.equal(image, output))\n"
      ],
      "metadata": {
        "id": "g5XKPGKuuhGv",
        "outputId": "087f780e-9178-4170-8025-7195cb16c920",
        "colab": {
          "base_uri": "https://localhost:8080/"
        }
      },
      "execution_count": null,
      "outputs": [
        {
          "output_type": "stream",
          "name": "stdout",
          "text": [
            "Shape de la imagen (input): torch.Size([1, 28, 28])\n",
            "Shape de la salida (output): torch.Size([1, 28, 28])\n",
            "Son iguales input y output? True\n"
          ]
        }
      ]
    },
    {
      "cell_type": "markdown",
      "source": [
        "## Ejercicio 4) Red Neuronal Autoencoder Convolucional\n",
        "\n",
        "**1)** Defina y cree una red neuronal *autoenconder convolucional* constituida por las siguientes capas:\n",
        "\n",
        "1. Una capa convolucional 2D constituida por:\n",
        "\n",
        "* Una capa `Conv2d` (ver https://pytorch.org/docs/stable/generated/torch.nn.Conv2d.html) que deberá mapear $1$ canal de entradas de dimensiones $(28,28)$ a $16$ canales de de salida de dimensiones $(26,26)$. Para ello utilice un kernel de dimensiones $(3,3)$ y el resto de los parámetros en sus valores por defecto.\n",
        "* Una capa `ReLU`.\n",
        "* Una capa `Dropout`.\n",
        "* Una capa `MaxPool` (ver https://pytorch.org/docs/stable/generated/torch.nn.MaxPool2d.html) con un kernel de dimensiones $(2,2)$, de manera que mapeará entradas de dimensiones $(26,26)$ a salidas de dimensiones $(13,13)$.\n",
        "\n",
        "2. Una capa lineal constituida por:\n",
        "\n",
        "* Una capa `Flatten` que mapea una entrada de $16$ canales de dimensiones $(13,13)$ a un vector de dimensión $16\\times 13\\times 13$.\n",
        "* Una capa `Linear` que mapea un vector de dimensión $16\\times 13\\times 13$ a un vector de dimensión $n$.\n",
        "* Una capa `ReLU`.\n",
        "* Una capa `Dropout`.\n",
        "\n",
        "3. Una capa capa convolucional 2D transpuesta, constituida por:\n",
        "\n",
        "* una capa `ConvTranspose2d` (ver https://pytorch.org/docs/stable/generated/torch.nn.ConvTranspose2d.html) que mapea $16$ canales de dimensiones $(13,13)$ a $1$ canal de dimensiones $(28,28)$. Para ello, utilice un kernel de dimensiones $(6,6)$ y un stride de dimensiones $(2,2)$, dejando el resto de los parámetros en sus valores por defecto, i.e. padding de $(1,1)$ y out_padding de $(0,0)$.\n",
        "\n",
        "* Una capa `Sigmoid`.\n",
        "\n",
        "**3)** Grafique, a modo de comparación, unas pocas imagenes a predecir vs las correspondientes imagenes predichas utilizando el modelo sin entrenar y dropout $p=0.2$."
      ],
      "metadata": {
        "id": "REToccG127zI"
      }
    },
    {
      "cell_type": "code",
      "source": [
        "class Autoencoder(nn.Module):\n",
        "    \"\"\"\n",
        "    Combina el encoder, el linear_layer y el decoder en una sola red neuronal.\n",
        "    \"\"\"\n",
        "    def __init__(self, n: int, p: float):\n",
        "        \"\"\"\n",
        "        Constructor de la clase Autoencoder.\n",
        "\n",
        "        Parámetros:\n",
        "        - n (int): Número de neuronas en la capa lineal intermedia.\n",
        "        \"\"\"\n",
        "        super(Autoencoder, self).__init__()\n",
        "        # Codificador (Encoder)\n",
        "        self.encoder = nn.Sequential(\n",
        "            nn.Conv2d(in_channels=1, out_channels=16, kernel_size=3),  # Conv2d: (1, 28, 28) -> (16, 26, 26)\n",
        "            nn.ReLU(),\n",
        "            nn.Dropout(p=p),\n",
        "            nn.MaxPool2d(kernel_size=2)  # MaxPool2d: (16, 26, 26) -> (16, 13, 13)\n",
        "        )\n",
        "\n",
        "        # Calcula el tamaño después del encoder\n",
        "        self.encoder_output_shape = 16*13*13\n",
        "\n",
        "        # Capas lineales con tamaño n\n",
        "        self.linear_layer = nn.Sequential(\n",
        "            nn.Flatten(),  # Aplana la entrada\n",
        "            nn.Linear(self.encoder_output_shape, n),  # Reduce al tamaño n\n",
        "            nn.ReLU(),                                #PREGUNTARRRRRRRR!!!!!\n",
        "            nn.Dropout(p=p),                          #PREGUNTARRRRRRRR!!!!!\n",
        "            nn.Linear(n, self.encoder_output_shape),  # Reconstruye al tamaño original\n",
        "            nn.ReLU()\n",
        "        )\n",
        "\n",
        "        # Decodificador (Decoder)\n",
        "        self.decoder = nn.Sequential(\n",
        "            nn.ConvTranspose2d(\n",
        "                in_channels=16,\n",
        "                out_channels=1,\n",
        "                kernel_size=6,\n",
        "                stride=2,\n",
        "                padding=1,\n",
        "                output_padding=0\n",
        "            ),  # ConvTranspose2d: (16, 13, 13) -> (1, 28, 28)\n",
        "            nn.Sigmoid()  # Limita la salida al rango [0, 1]\n",
        "        )\n",
        "\n",
        "    def forward(self, x: torch.Tensor) -> torch.Tensor:\n",
        "        \"\"\"\n",
        "        Define el flujo de datos a través de la red.\n",
        "\n",
        "        Parámetros:\n",
        "        - x (torch.Tensor): Tensor de entrada con forma (batch_size, 1, 28, 28).\n",
        "\n",
        "        Retorno:\n",
        "        - torch.Tensor: Tensor de salida con forma (batch_size, 1, 28, 28).\n",
        "        \"\"\"\n",
        "        # Paso por el encoder\n",
        "        encoded = self.encoder(x)\n",
        "\n",
        "        # Paso por la capa lineal\n",
        "        linear_output = self.linear_layer(encoded)\n",
        "\n",
        "        # Reconstrucción: adaptamos el tensor para el decoder\n",
        "        batch_size = x.size(0)\n",
        "        decoded_input = linear_output.view(batch_size, 16, 13, 13)  # Volvemos al tamaño esperado por el decoder\n",
        "\n",
        "        # Paso por el decoder\n",
        "        decoded = self.decoder(decoded_input)\n",
        "        return decoded\n"
      ],
      "metadata": {
        "id": "qSJqCozXCEq1"
      },
      "execution_count": null,
      "outputs": []
    },
    {
      "cell_type": "code",
      "source": [
        "# Crear el modelo\n",
        "n = 16*13*13\n",
        "model = Autoencoder(n=n, p=0.2)\n",
        "\n",
        "# Crear un tensor de prueba (batch_size=4, canales=1, altura=28, ancho=28)\n",
        "input_tensor = torch.rand(4, 1, 28, 28)\n",
        "\n",
        "# Pasar el tensor por la red\n",
        "output_tensor = model(input_tensor)\n",
        "\n",
        "print(\"Forma de la salida:\", train_set_autoencoder[0][0].shape)\n"
      ],
      "metadata": {
        "colab": {
          "base_uri": "https://localhost:8080/"
        },
        "id": "yluQxcpA74Fk",
        "outputId": "618b9250-0f92-430f-ac0c-147fbbddd33a"
      },
      "execution_count": null,
      "outputs": [
        {
          "output_type": "stream",
          "name": "stdout",
          "text": [
            "Forma de la salida: torch.Size([1, 28, 28])\n"
          ]
        }
      ]
    },
    {
      "cell_type": "code",
      "source": [
        "figure = plt.figure()\n",
        "\n",
        "image = train_set_orig[10][0]\n",
        "plt.axis(\"off\")\n",
        "plt.imshow(image.squeeze(),cmap=\"Greys_r\")\n",
        "plt.show()"
      ],
      "metadata": {
        "colab": {
          "base_uri": "https://localhost:8080/",
          "height": 423
        },
        "id": "R246oybvAFub",
        "outputId": "ac569d5b-7c42-433b-9f9b-dd9781e7fedc"
      },
      "execution_count": null,
      "outputs": [
        {
          "output_type": "stream",
          "name": "stdout",
          "text": [
            "torch.Size([1, 28, 28])\n"
          ]
        },
        {
          "output_type": "display_data",
          "data": {
            "text/plain": [
              "<Figure size 640x480 with 1 Axes>"
            ],
            "image/png": "[encoded data removed]"
          },
          "metadata": {}
        }
      ]
    },
    {
      "cell_type": "code",
      "source": [
        "figure = plt.figure()\n",
        "\n",
        "image = train_set_orig[10][0]\n",
        "image_with_channel = image.unsqueeze(0)\n",
        "output_tensor = model(image_with_channel)\n",
        "\n",
        "output_image = output_tensor.detach().squeeze(0)\n",
        "\n",
        "# Visualizar la imagen con imshow\n",
        "plt.axis(\"off\")\n",
        "plt.imshow(output_image[0], cmap=\"Greys_r\")  # Selecciona el canal 0 (ya que tiene forma (1, 28, 28))\n",
        "plt.show()"
      ],
      "metadata": {
        "colab": {
          "base_uri": "https://localhost:8080/",
          "height": 406
        },
        "id": "n5MlQ_ebAeeS",
        "outputId": "febf32ec-0d4e-443f-d2ba-dc4a3c1e05a8"
      },
      "execution_count": null,
      "outputs": [
        {
          "output_type": "display_data",
          "data": {
            "text/plain": [
              "<Figure size 640x480 with 1 Axes>"
            ],
            "image/png": "[encoded data removed]"
          },
          "metadata": {}
        }
      ]
    },
    {
      "cell_type": "markdown",
      "source": [
        "## Ejercicio 5) Entrenando el modelo\n",
        "\n",
        "**1)** Implemente, en una función, un loop de entrenamiento que recorra los batchs (lotes).\n",
        "\n",
        "**2)** Implemente, en una función, un loop de prueba o validación que recorra los batchs.\n",
        "\n",
        "**3)** Inicialize dos `DataLoader`s llamados `train_loader` y `valid_loader` que estén definidos sobre  el `train_set` (conjunto de entranmiento) y el `valid_set` (conjunto de prueba) de Fashion-MNIST, respectivamente, y que usen batchs de 100 ejemplos.\n",
        "\n",
        "**4)** Cree una función de pérdida usando el **Error Cuadrático Medio**.\n",
        "\n",
        "**5)** Cree un optimizador con un learning rate igual a $10^{-3}$.\n",
        "Pruebe con **ADAM**.\n",
        "\n",
        "**6)** Cree una instancia del modelo con dropout $p=0.2$.\n",
        "\n",
        "**7)** Especifique en que dispositivo (`device`) va a trabajar: en una **CPU** o en una **GPU**.\n",
        "\n",
        "**8)** Implemente un loop que itere sobre épocas de entrenamiento y validación, y que guarde en listas correspondientes los siguientes valores del **ECM**:\n",
        "*  promedios (incorrectos) sobre el conjunto de entrenamiento, calculado **durante** el proceso de entrenamiento sobre la época.\n",
        "*  promedios (correctos) sobre el conjunto de entrenamiento, calculados **posteriormente** al proceso de entrenamiento sobre la época.\n",
        "*  promedios (correctos) sobre el conjunto de validación, calculados **posteriormente** al proceso de entrenamiento sobre la época.\n",
        "\n",
        "**IMPORTANTE:** No olvide copiar los batchs al dispositivo de trabajo.\n",
        "\n",
        "**9)** Entrene y valide el modelo.\n",
        "\n",
        "**10)** Use las listas del inciso **8)** para graficar en función de las **épocas de entrenamiento** el **ECM** de **entrenamiento** y **validación**, respectivamente.\n",
        "Discuta y comente, cual es el número óptimo de épocas de entrenamiento?\n",
        "\n",
        "**11)** Grafique, comparativamente, algunas de las imagenes a predecir vs las imagenes predichas por el modelo entrenado.\n",
        "\n",
        "**12)** Repita para otras elecciones de los hiperparámetros tales como, el optimizador (podría ser el **SGD**), el **learning-rate**, el tamaño de los **batchs**, el **dropout**, **capas convolucionales** y **convolucionales traspuestas** de otros tamaños.\n",
        "En particular, pruebe eliminando, adecuadamente, la **capa lineal**.\n",
        "Que valores de estos hiperparámetros considera los más convenientes? Porqué?"
      ],
      "metadata": {
        "id": "A9uINlg69OTw"
      }
    },
    {
      "cell_type": "code",
      "source": [
        "# 5.1)"
      ],
      "metadata": {
        "id": "hyuXv-0x29Xw"
      },
      "execution_count": null,
      "outputs": []
    }
  ]
}